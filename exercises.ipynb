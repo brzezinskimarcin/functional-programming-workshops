{
 "cells": [
  {
   "attachments": {},
   "cell_type": "markdown",
   "metadata": {
    "tags": [
     "Higher Order Functions",
     "Currying"
    ]
   },
   "source": [
    "#### Higher Order Functions"
   ]
  },
  {
   "attachments": {},
   "cell_type": "markdown",
   "metadata": {},
   "source": [
    "1. Implement `get_longest`, `get_shortest`, `get_oldest`, `get_newest`"
   ]
  },
  {
   "cell_type": "code",
   "execution_count": null,
   "metadata": {},
   "outputs": [],
   "source": [
    "songs = [\n",
    "  { 'name': 'Space Oddity', 'duration': 304, 'released': 1972 },\n",
    "  { 'name': 'Karma Police', 'duration': 263, 'released': 1997 },\n",
    "  { 'name': 'Pictures Of You', 'duration': 503, 'released': 1993 },\n",
    "  { 'name': 'Wonderwall', 'duration': 280, 'released': 1995 },\n",
    "  { 'name': 'Let It Happen', 'duration': 256, 'released': 2015 },\n",
    "  { 'name': 'Where Is My Mind', 'duration': 216, 'released': 1988 },\n",
    "]\n",
    "\n",
    "def get_longest(songs):\n",
    "  pass\n",
    "\n",
    "def get_shortest(songs):\n",
    "  pass\n",
    "\n",
    "def get_oldest(songs):\n",
    "  pass\n",
    "\n",
    "def get_newest(songs):\n",
    "  pass\n",
    "\n",
    "\n",
    "print(get_longest(songs))\n",
    "print(get_shortest(songs))\n",
    "print(get_oldest(songs))\n",
    "print(get_newest(songs))"
   ]
  },
  {
   "attachments": {},
   "cell_type": "markdown",
   "metadata": {},
   "source": [
    "2. Implement `my_reduce`, `my_reduce_with_predicate` and rewrite solution above."
   ]
  },
  {
   "cell_type": "code",
   "execution_count": null,
   "metadata": {},
   "outputs": [],
   "source": [
    "def my_reduce(reducer, initial, arr):\n",
    "  pass\n",
    "\n",
    "def my_reduce_with_predicate(predicate, arr):\n",
    "  pass\n",
    "\n",
    "def fn_longest(songs):\n",
    "  pass\n",
    "\n",
    "def fn_shortest(songs):\n",
    "  pass\n",
    "\n",
    "def fn_oldest(songs):\n",
    "  pass\n",
    "\n",
    "def fn_newest(songs):\n",
    "  pass\n",
    "\n",
    "print(fn_longest(songs))\n",
    "print(fn_shortest(songs))\n",
    "print(fn_oldest(songs))\n",
    "print(fn_newest(songs))"
   ]
  },
  {
   "attachments": {},
   "cell_type": "markdown",
   "metadata": {},
   "source": [
    "3. Power of reduce - `my_map`, `my_filter`, `my_find`"
   ]
  },
  {
   "cell_type": "code",
   "execution_count": null,
   "metadata": {},
   "outputs": [],
   "source": [
    "def my_map(mapper, arr):\n",
    "  pass\n",
    "\n",
    "def my_filter(predicate, arr):\n",
    "  pass\n",
    "\n",
    "def my_find(predicate, arr):\n",
    "  pass\n",
    "\n",
    "\n",
    "print(my_map(lambda song: song['duration'], songs))\n",
    "print(my_filter(lambda song: song['duration'] < 270, songs))\n",
    "print(my_find(lambda song: song['name'] == 'Space Oddity', songs))"
   ]
  },
  {
   "attachments": {},
   "cell_type": "markdown",
   "metadata": {},
   "source": [
    "4. Implement `memoize`."
   ]
  },
  {
   "cell_type": "code",
   "execution_count": null,
   "metadata": {},
   "outputs": [],
   "source": [
    "from functools import wraps\n",
    "\n",
    "def memoize(pure_fn):\n",
    "  pass\n",
    "\n",
    "def fibonacci(n):\n",
    "  if (n < 2):\n",
    "    return 1\n",
    "  return fibonacci(n - 1) + fibonacci(n - 2)\n",
    "\n",
    "print(fibonacci(40))"
   ]
  },
  {
   "attachments": {},
   "cell_type": "markdown",
   "metadata": {
    "tags": []
   },
   "source": [
    "#### Currying"
   ]
  },
  {
   "attachments": {},
   "cell_type": "markdown",
   "metadata": {},
   "source": [
    "1. Implement `curry`."
   ]
  },
  {
   "cell_type": "code",
   "execution_count": null,
   "metadata": {},
   "outputs": [],
   "source": [
    "from inspect import signature\n",
    "\n",
    "def curry(func):\n",
    "  pass\n",
    "\n",
    "@curry\n",
    "def concat(a, b, c):\n",
    "  return a + b + c\n",
    "\n",
    "@curry\n",
    "def print_with_prefix(prefix, str):\n",
    "  return print(f'{prefix}{str}')\n",
    "\n",
    "print(concat('First', 'Second', 'Third'))\n",
    "print(concat('First', 'Second')('Third'))\n",
    "print(concat('First')('Second', 'Third'))\n",
    "print(concat('First')('Second')('Third'))\n",
    "print_with_prefix('Prefix', 'Str')"
   ]
  },
  {
   "attachments": {},
   "cell_type": "markdown",
   "metadata": {},
   "source": [
    "2. Implement curried versions of `add`, `prop`, `equals`, `prop_eq`, `filter`, `map`, `reduce`"
   ]
  },
  {
   "cell_type": "code",
   "execution_count": null,
   "metadata": {},
   "outputs": [],
   "source": [
    "add = None\n",
    "prop = None\n",
    "equals = None\n",
    "prop_eq = None\n",
    "filter = None\n",
    "map = None\n",
    "reduce = None\n",
    "\n",
    "print(add(1)(2))\n",
    "print(prop('name')(songs[0]))\n",
    "print(equals(1)(2))\n",
    "print(prop_eq('name')('Space Oddity')(songs[0]))\n",
    "print(filter(lambda item: item % 2 == 0, [1, 2, 3, 4, 5]))\n",
    "print(map(lambda item: item * 2, [1, 2, 3, 4, 5]))\n",
    "print(reduce(lambda acc, item: acc + item, 0, [1, 2, 3, 4, 5]))"
   ]
  },
  {
   "attachments": {},
   "cell_type": "markdown",
   "metadata": {},
   "source": [
    "Imagine we have a data structure called `MessageQueue`:"
   ]
  },
  {
   "cell_type": "code",
   "execution_count": null,
   "metadata": {},
   "outputs": [],
   "source": [
    "class MessageQueue:\n",
    "  def __init__(self):\n",
    "    self.subscribers = []\n",
    "  \n",
    "  def publish(self, task):\n",
    "    for subscriber in self.subscribers:\n",
    "      reduce(lambda task, handler: handler(task), task, subscriber['handlers'])\n",
    "  \n",
    "  def subscribe(self):\n",
    "    new_subscriber = {\n",
    "      'handlers': []\n",
    "    }\n",
    "    self.subscribers.append(new_subscriber)\n",
    "\n",
    "    class Subscriber:\n",
    "      def then(self, callback):\n",
    "        new_subscriber['handlers'].append(callback)\n",
    "        return self\n",
    "\n",
    "    return Subscriber()\n",
    "\n",
    "message_queue = MessageQueue()"
   ]
  },
  {
   "attachments": {},
   "cell_type": "markdown",
   "metadata": {},
   "source": [
    "You can subscribe to messages pushed on the queue by calling `subscribe` and attaching different handlers with `then`:"
   ]
  },
  {
   "cell_type": "code",
   "execution_count": null,
   "metadata": {},
   "outputs": [],
   "source": [
    "message_queue \\\n",
    "  .subscribe() \\\n",
    "  .then((lambda data: print(f'test subscribe: { data[\"result\"] }')))"
   ]
  },
  {
   "attachments": {},
   "cell_type": "markdown",
   "metadata": {},
   "source": [
    "You can put a new message on the queue by calling `publish`: "
   ]
  },
  {
   "cell_type": "code",
   "execution_count": null,
   "metadata": {},
   "outputs": [],
   "source": [
    "message_with_task_list = {\n",
    "  'result': 'SUCCESS',\n",
    "  'interfaceVersion': '1.0.3',\n",
    "  'requested': '10/17/2013 15:31:20',\n",
    "  'lastUpdated': '10/16/2013 10:52:39',\n",
    "  'tasks': [\n",
    "    { 'id': 104, 'complete': False, 'priority': 'high', 'username': 'Scott', 'title': 'Do something', 'estimate': 5 },\n",
    "    { 'id': 105, 'complete': False, 'priority': 'medium', 'username': 'Lena', 'title': 'Do something else', 'estimate': 2 },\n",
    "    { 'id': 107, 'complete': True, 'priority': 'high', 'username': 'Mike', 'title': 'Fix the foo', 'estimate': 1 },\n",
    "    { 'id': 108, 'complete': False, 'priority': 'low', 'username': 'Mike', 'title': 'Adjust the bar', 'estimate': 3 },\n",
    "    { 'id': 110, 'complete': False, 'priority': 'medium', 'username': 'Scott', 'title': 'Rename everything', 'estimate': 8 },\n",
    "    { 'id': 110, 'complete': True, 'priority': 'medium', 'username': 'Scott', 'title': 'Deploy', 'estimate': 1 },\n",
    "    { 'id': 112, 'complete': True, 'priority': 'high', 'username': 'Lena', 'title': 'Approve', 'estimate': 13 },\n",
    "  ],\n",
    "}\n",
    "message_queue.publish(message_with_task_list)"
   ]
  },
  {
   "attachments": {},
   "cell_type": "markdown",
   "metadata": {},
   "source": [
    "We would like to have `get_incomplete_tasks_estimation`.\n",
    "It accepts `username` as parameter, and returns the total estimation of all incomplete tasks assigned to that person.\n",
    "\n",
    "Implement this function in three different ways:"
   ]
  },
  {
   "attachments": {},
   "cell_type": "markdown",
   "metadata": {},
   "source": [
    "a) imperative"
   ]
  },
  {
   "cell_type": "code",
   "execution_count": null,
   "metadata": {},
   "outputs": [],
   "source": [
    "def get_incomplete_tasks_estimation_imperative(username):\n",
    "  def get_tasks(data):\n",
    "    return data['tasks']\n",
    "\n",
    "  def get_user_tasks(tasks):\n",
    "    filtered = []\n",
    "    for task in tasks:\n",
    "      if task['username'] == username:\n",
    "        filtered.append(task)\n",
    "    return filtered\n",
    "\n",
    "  def get_user_incomplete_tasks(user_tasks):\n",
    "    filtered = []\n",
    "    for task in user_tasks:\n",
    "      if task['complete'] == False:\n",
    "        filtered.append(task)\n",
    "    return filtered\n",
    "\n",
    "  def get_estimates(user_incomplete_tasks):\n",
    "    mapped = []\n",
    "    for task in user_incomplete_tasks:\n",
    "      mapped.append(task['estimate'])\n",
    "    return mapped\n",
    "\n",
    "  def get_result(estimates):\n",
    "    acc = 0\n",
    "    for estimate in estimates:\n",
    "      acc += estimate\n",
    "    return acc\n",
    "  \n",
    "  def print_result(result):\n",
    "    print_with_prefix('imperative: ', result)\n",
    "\n",
    "  return message_queue.subscribe() \\\n",
    "    .then(get_tasks) \\\n",
    "    .then(get_user_tasks) \\\n",
    "    .then(get_user_incomplete_tasks) \\\n",
    "    .then(get_estimates) \\\n",
    "    .then(get_result) \\\n",
    "    .then(print_result)\n",
    "\n",
    "get_incomplete_tasks_estimation_imperative('Scott')\n",
    "message_queue.publish(message_with_task_list)"
   ]
  },
  {
   "attachments": {},
   "cell_type": "markdown",
   "metadata": {},
   "source": [
    "b) functional (using higher order functions, but without currying)"
   ]
  },
  {
   "cell_type": "code",
   "execution_count": null,
   "metadata": {},
   "outputs": [],
   "source": [
    "def get_incomplete_tasks_estimation_functional(username):\n",
    "  pass\n",
    "\n",
    "get_incomplete_tasks_estimation_functional('Scott')\n",
    "message_queue.publish(message_with_task_list)"
   ]
  },
  {
   "attachments": {},
   "cell_type": "markdown",
   "metadata": {},
   "source": [
    "c) functional (using both higher order functions and currying)"
   ]
  },
  {
   "cell_type": "code",
   "execution_count": null,
   "metadata": {},
   "outputs": [],
   "source": [
    "def get_incomplete_tasks_estimation_functional(username):\n",
    "  pass\n",
    "\n",
    "get_incomplete_tasks_estimation_functional('Scott')\n",
    "message_queue.publish(message_with_task_list)"
   ]
  },
  {
   "attachments": {},
   "cell_type": "markdown",
   "metadata": {},
   "source": [
    "#### Composition"
   ]
  },
  {
   "attachments": {},
   "cell_type": "markdown",
   "metadata": {},
   "source": [
    "1. Implement `simple_compose`. Check if it's associative."
   ]
  },
  {
   "cell_type": "code",
   "execution_count": null,
   "metadata": {},
   "outputs": [],
   "source": [
    "def simple_compose(f, g):\n",
    "  pass\n",
    "\n",
    "head = lambda x: x[0]\n",
    "to_upper_case = lambda x: x.upper()\n",
    "exclaim = lambda x: f'{x}!'\n",
    "\n",
    "fg_h = None\n",
    "f_gh = None\n",
    "\n",
    "print(fg_h(['first', 'last']))\n",
    "print(f_gh(['first', 'last']))"
   ]
  },
  {
   "attachments": {},
   "cell_type": "markdown",
   "metadata": {},
   "source": [
    "1. Implement `compose`."
   ]
  },
  {
   "cell_type": "code",
   "execution_count": null,
   "metadata": {},
   "outputs": [],
   "source": [
    "def compose(*functions):\n",
    "  pass\n",
    "\n",
    "fgh = compose(exclaim, to_upper_case, head)\n",
    "print(fgh(['first', 'last']))"
   ]
  },
  {
   "attachments": {},
   "cell_type": "markdown",
   "metadata": {},
   "source": [
    "2. Implement `simple_pipe` and `pipe`."
   ]
  },
  {
   "cell_type": "code",
   "execution_count": null,
   "metadata": {},
   "outputs": [],
   "source": [
    "def simple_pipe(f, g):\n",
    "  pass\n",
    "\n",
    "def pipe(*functions):\n",
    "  pass\n",
    "\n",
    "hgf = pipe(head, to_upper_case, exclaim)\n",
    "print(hgf(['first', 'last']))"
   ]
  },
  {
   "attachments": {},
   "cell_type": "markdown",
   "metadata": {},
   "source": [
    "3. Implement `scott_incomplete_tasks_estimation_compose` and `scott_incomplete_tasks_estimation_pipe`"
   ]
  },
  {
   "cell_type": "code",
   "execution_count": null,
   "metadata": {},
   "outputs": [],
   "source": [
    "scott_incomplete_tasks_estimation_compose = None\n",
    "\n",
    "scott_incomplete_tasks_estimation_compose(message_with_task_list)\n",
    "\n",
    "scott_incomplete_tasks_estimation_pipe = None\n",
    "\n",
    "scott_incomplete_tasks_estimation_pipe(message_with_task_list)"
   ]
  },
  {
   "attachments": {},
   "cell_type": "markdown",
   "metadata": {},
   "source": [
    "#### Functors"
   ]
  },
  {
   "attachments": {},
   "cell_type": "markdown",
   "metadata": {},
   "source": [
    "1. Implement `Maybe` functor."
   ]
  },
  {
   "cell_type": "code",
   "execution_count": null,
   "metadata": {},
   "outputs": [],
   "source": [
    "class Maybe:\n",
    "  pass\n",
    "\n",
    "  \n",
    "print(Maybe.Just(5))\n",
    "print(Maybe.Nothing())\n",
    "print(Maybe.From(10))\n",
    "print(Maybe.From(None))\n",
    "\n",
    "@curry\n",
    "def at(index, array):\n",
    "  return array[index] if index < len(array) else None\n",
    "\n",
    "head = at(0)\n",
    "inc = add(1)\n",
    "\n",
    "print(\n",
    "  Maybe.From(head([5, 2])) \\\n",
    "    .map(inc) \\\n",
    "    .get_or_else('cannot calculate the value')\n",
    ")\n"
   ]
  },
  {
   "attachments": {},
   "cell_type": "markdown",
   "metadata": {},
   "source": [
    "2. Make `Maybe` a monad."
   ]
  },
  {
   "cell_type": "code",
   "execution_count": null,
   "metadata": {},
   "outputs": [],
   "source": [
    "@curry\n",
    "def divide(a, b):\n",
    "  return Maybe.Nothing() if b == 0 else Maybe.Just(a // b)\n",
    "\n",
    "print(\n",
    "  Maybe.From(head([5, 2])) \\\n",
    "    .map(divide(10)) \\\n",
    ")"
   ]
  },
  {
   "attachments": {},
   "cell_type": "markdown",
   "metadata": {},
   "source": [
    "3. Implement `get_first_incomplete_task_assignee` (with handling missing values):"
   ]
  },
  {
   "cell_type": "code",
   "execution_count": null,
   "metadata": {},
   "outputs": [],
   "source": [
    "example_task = {\n",
    "  'result': 'SUCCESS',\n",
    "  'interfaceVersion': '1.0.3',\n",
    "  'requested': '10/17/2013 15:31:20',\n",
    "  'lastUpdated': '10/16/2013 10:52:39',\n",
    "  'tasks': [\n",
    "    { 'id': 104, 'complete': False, 'priority': 'high', 'username': 'Scott', 'title': 'Do something', 'estimate': 5 },\n",
    "    { 'id': 105, 'complete': False, 'priority': 'medium', 'username': 'Lena', 'title': 'Do something else', 'estimate': 2 },\n",
    "    { 'id': 107, 'complete': True, 'priority': 'high', 'username': 'Mike', 'title': 'Fix the foo', 'estimate': 1 },\n",
    "    { 'id': 108, 'complete': False, 'priority': 'low', 'username': 'Mike', 'title': 'Adjust the bar', 'estimate': 3 },\n",
    "    { 'id': 110, 'complete': False, 'priority': 'medium', 'username': 'Scott', 'title': 'Rename everything', 'estimate': 8 },\n",
    "    { 'id': 110, 'complete': True, 'priority': 'medium', 'username': 'Scott', 'title': 'Deploy', 'estimate': 1 },\n",
    "    { 'id': 112, 'complete': True, 'priority': 'high', 'username': 'Lena', 'title': 'Approve', 'estimate': 13 },\n",
    "  ],\n",
    "}"
   ]
  },
  {
   "attachments": {},
   "cell_type": "markdown",
   "metadata": {},
   "source": [
    "a) imperative"
   ]
  },
  {
   "cell_type": "code",
   "execution_count": null,
   "metadata": {},
   "outputs": [],
   "source": [
    "def get_first_incomplete_task_assignee_imperative(message):\n",
    "  if message.get('tasks') is not None:\n",
    "    incomplete_tasks = filter(lambda task: task['complete'] == False, message.get('tasks'))\n",
    "    first_incomplete_task = head(incomplete_tasks)\n",
    "    if first_incomplete_task is not None:\n",
    "      username = first_incomplete_task.get('username')\n",
    "      if username is not None:\n",
    "        return username\n",
    "  return None\n",
    "\n",
    "print(get_first_incomplete_task_assignee_imperative(example_task))\n",
    "\n",
    "def get_first_incomplete_task_assignee_imperative_2(message):\n",
    "  if message.get('tasks') is None:\n",
    "    return None\n",
    "  incomplete_tasks = filter(lambda task: task['complete'] == False, message.get('tasks'))\n",
    "  first_incomplete_task = head(incomplete_tasks)\n",
    "  if first_incomplete_task is None:\n",
    "    return None\n",
    "  username = first_incomplete_task.get('username')\n",
    "  if username is None:\n",
    "    return None\n",
    "  return username\n",
    "\n",
    "print(get_first_incomplete_task_assignee_imperative_2(example_task))"
   ]
  },
  {
   "attachments": {},
   "cell_type": "markdown",
   "metadata": {},
   "source": [
    "b) functional (using `Maybe` monad to handle absence of value)"
   ]
  },
  {
   "cell_type": "code",
   "execution_count": null,
   "metadata": {},
   "outputs": [],
   "source": [
    "safe_head = None\n",
    "safe_prop = None\n",
    "map = None\n",
    "chain = None\n",
    "get_or_else = None\n",
    "\n",
    "get_first_incomplete_task_assignee_functional = None\n",
    "\n",
    "print(get_first_incomplete_task_assignee_functional(example_task))"
   ]
  }
 ],
 "metadata": {
  "kernelspec": {
   "display_name": "Python 3",
   "language": "python",
   "name": "python3"
  },
  "language_info": {
   "codemirror_mode": {
    "name": "ipython",
    "version": 3
   },
   "file_extension": ".py",
   "mimetype": "text/x-python",
   "name": "python",
   "nbconvert_exporter": "python",
   "pygments_lexer": "ipython3",
   "version": "3.11.0"
  },
  "orig_nbformat": 4,
  "vscode": {
   "interpreter": {
    "hash": "3b9618e4c15a19c2752797371b0a9738b813ae0f98e698bfbeeb1251bafe70b2"
   }
  }
 },
 "nbformat": 4,
 "nbformat_minor": 2
}
