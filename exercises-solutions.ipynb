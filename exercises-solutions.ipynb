{
 "cells": [
  {
   "attachments": {},
   "cell_type": "markdown",
   "metadata": {
    "tags": [
     "Higher Order Functions",
     "Currying"
    ]
   },
   "source": [
    "#### Higher Order Functions"
   ]
  },
  {
   "attachments": {},
   "cell_type": "markdown",
   "metadata": {},
   "source": [
    "1. Implement `get_longest`, `get_shortest`, `get_oldest`, `get_newest`"
   ]
  },
  {
   "cell_type": "code",
   "execution_count": 120,
   "metadata": {},
   "outputs": [
    {
     "name": "stdout",
     "output_type": "stream",
     "text": [
      "{'name': 'Pictures Of You', 'duration': 503, 'released': 1993}\n",
      "{'name': 'Where Is My Mind', 'duration': 216, 'released': 1988}\n",
      "{'name': 'Space Oddity', 'duration': 304, 'released': 1972}\n",
      "{'name': 'Let It Happen', 'duration': 256, 'released': 2015}\n"
     ]
    }
   ],
   "source": [
    "songs = [\n",
    "  { 'name': 'Space Oddity', 'duration': 304, 'released': 1972 },\n",
    "  { 'name': 'Karma Police', 'duration': 263, 'released': 1997 },\n",
    "  { 'name': 'Pictures Of You', 'duration': 503, 'released': 1993 },\n",
    "  { 'name': 'Wonderwall', 'duration': 280, 'released': 1995 },\n",
    "  { 'name': 'Let It Happen', 'duration': 256, 'released': 2015 },\n",
    "  { 'name': 'Where Is My Mind', 'duration': 216, 'released': 1988 },\n",
    "]\n",
    "\n",
    "def get_longest(songs):\n",
    "  result = songs[0]\n",
    "  for song in songs:\n",
    "    if (result['duration'] < song['duration']):\n",
    "      result = song\n",
    "  return result\n",
    "\n",
    "def get_shortest(songs):\n",
    "  result = songs[0]\n",
    "  for song in songs:\n",
    "    if (result['duration'] > song['duration']):\n",
    "      result = song\n",
    "  return result\n",
    "\n",
    "def get_oldest(songs):\n",
    "  result = songs[0]\n",
    "  for song in songs:\n",
    "    if (result['released'] > song['released']):\n",
    "      result = song\n",
    "  return result\n",
    "\n",
    "def get_newest(songs):\n",
    "  result = songs[0]\n",
    "  for song in songs:\n",
    "    if (result['released'] < song['released']):\n",
    "      result = song\n",
    "  return result\n",
    "\n",
    "\n",
    "print(get_longest(songs))\n",
    "print(get_shortest(songs))\n",
    "print(get_oldest(songs))\n",
    "print(get_newest(songs))"
   ]
  },
  {
   "attachments": {},
   "cell_type": "markdown",
   "metadata": {},
   "source": [
    "2. Implement `my_reduce`, `my_reduce_with_predicate` and rewrite solution above."
   ]
  },
  {
   "cell_type": "code",
   "execution_count": 121,
   "metadata": {},
   "outputs": [
    {
     "name": "stdout",
     "output_type": "stream",
     "text": [
      "{'name': 'Pictures Of You', 'duration': 503, 'released': 1993}\n",
      "{'name': 'Where Is My Mind', 'duration': 216, 'released': 1988}\n",
      "{'name': 'Space Oddity', 'duration': 304, 'released': 1972}\n",
      "{'name': 'Let It Happen', 'duration': 256, 'released': 2015}\n"
     ]
    }
   ],
   "source": [
    "def my_reduce(reducer, initial, arr):\n",
    "  acc = initial\n",
    "  for item in arr:\n",
    "    acc = reducer(acc, item)\n",
    "  return acc\n",
    "\n",
    "def my_reduce_with_predicate(predicate, arr):\n",
    "  return my_reduce(lambda acc, item: acc if predicate(acc, item) else item, arr[0], arr)\n",
    "\n",
    "def fn_longest(songs):\n",
    "  return my_reduce_with_predicate(lambda a, b: a['duration'] > b['duration'], songs)\n",
    "\n",
    "def fn_shortest(songs):\n",
    "  return my_reduce_with_predicate(lambda a, b: a['duration'] < b['duration'], songs)\n",
    "\n",
    "def fn_oldest(songs):\n",
    "  return my_reduce_with_predicate(lambda a, b: a['released'] < b['released'], songs)\n",
    "\n",
    "def fn_newest(songs):\n",
    "  return my_reduce_with_predicate(lambda a, b: a['released'] > b['released'], songs)\n",
    "\n",
    "\n",
    "print(fn_longest(songs))\n",
    "print(fn_shortest(songs))\n",
    "print(fn_oldest(songs))\n",
    "print(fn_newest(songs))"
   ]
  },
  {
   "attachments": {},
   "cell_type": "markdown",
   "metadata": {},
   "source": [
    "3. Power of reduce - `my_map`, `my_filter`, `my_find`"
   ]
  },
  {
   "cell_type": "code",
   "execution_count": 122,
   "metadata": {},
   "outputs": [
    {
     "name": "stdout",
     "output_type": "stream",
     "text": [
      "[304, 263, 503, 280, 256, 216]\n",
      "[{'name': 'Karma Police', 'duration': 263, 'released': 1997}, {'name': 'Let It Happen', 'duration': 256, 'released': 2015}, {'name': 'Where Is My Mind', 'duration': 216, 'released': 1988}]\n",
      "{'name': 'Space Oddity', 'duration': 304, 'released': 1972}\n"
     ]
    }
   ],
   "source": [
    "def my_map(mapper, arr):\n",
    "  return my_reduce(lambda acc, item: [*acc, mapper(item)], [], arr)\n",
    "\n",
    "def my_filter(predicate, arr):\n",
    "  return my_reduce(lambda acc, item: [*acc, item] if predicate(item) else acc, [], arr)\n",
    "\n",
    "def my_find(predicate, arr):\n",
    "  return my_filter(predicate, arr)[0]\n",
    "\n",
    "\n",
    "print(my_map(lambda song: song['duration'], songs))\n",
    "print(my_filter(lambda song: song['duration'] < 270, songs))\n",
    "print(my_find(lambda song: song['name'] == 'Space Oddity', songs))"
   ]
  },
  {
   "attachments": {},
   "cell_type": "markdown",
   "metadata": {},
   "source": [
    "4. Implement `memoize`."
   ]
  },
  {
   "cell_type": "code",
   "execution_count": 123,
   "metadata": {},
   "outputs": [
    {
     "name": "stdout",
     "output_type": "stream",
     "text": [
      "165580141\n"
     ]
    }
   ],
   "source": [
    "from functools import wraps\n",
    "\n",
    "def memoize(pure_fn):\n",
    "  cache = {}\n",
    "  \n",
    "  @wraps(pure_fn)\n",
    "  def memoized(*args):\n",
    "    str_args = str(args)\n",
    "    if str_args not in cache:\n",
    "      cache[str_args] = pure_fn(*args)\n",
    "    return cache[str_args]\n",
    "\n",
    "  return memoized\n",
    "\n",
    "@memoize\n",
    "def fibonacci(n):\n",
    "  if (n < 2):\n",
    "    return 1\n",
    "  return fibonacci(n - 1) + fibonacci(n - 2)\n",
    "\n",
    "print(fibonacci(40))"
   ]
  },
  {
   "attachments": {},
   "cell_type": "markdown",
   "metadata": {
    "tags": []
   },
   "source": [
    "#### Currying"
   ]
  },
  {
   "attachments": {},
   "cell_type": "markdown",
   "metadata": {},
   "source": [
    "1. Implement `curry`."
   ]
  },
  {
   "cell_type": "code",
   "execution_count": 124,
   "metadata": {},
   "outputs": [
    {
     "name": "stdout",
     "output_type": "stream",
     "text": [
      "FirstSecondThird\n",
      "FirstSecondThird\n",
      "FirstSecondThird\n",
      "FirstSecondThird\n",
      "PrefixStr\n"
     ]
    }
   ],
   "source": [
    "from inspect import signature\n",
    "\n",
    "def curry(func):\n",
    "  \n",
    "  @wraps(func)\n",
    "  def curried(*args):\n",
    "    if len(args) >= len(signature(func).parameters):\n",
    "      return func(*args)\n",
    "  \n",
    "    else:\n",
    "      @wraps(func)\n",
    "      def partially_applied(*args2):\n",
    "        return curried(*args, *args2)\n",
    "      return partially_applied\n",
    "  \n",
    "  return curried\n",
    "\n",
    "@curry\n",
    "def concat(a, b, c):\n",
    "  return a + b + c\n",
    "\n",
    "@curry\n",
    "def print_with_prefix(prefix, str):\n",
    "  return print(f'{prefix}{str}')\n",
    "\n",
    "print(concat('First', 'Second', 'Third'))\n",
    "print(concat('First', 'Second')('Third'))\n",
    "print(concat('First')('Second', 'Third'))\n",
    "print(concat('First')('Second')('Third'))\n",
    "print_with_prefix('Prefix', 'Str')"
   ]
  },
  {
   "attachments": {},
   "cell_type": "markdown",
   "metadata": {},
   "source": [
    "2. Implement curried versions of `add`, `prop`, `equals`, `prop_eq`, `filter`, `map`, `reduce`"
   ]
  },
  {
   "cell_type": "code",
   "execution_count": 125,
   "metadata": {},
   "outputs": [
    {
     "name": "stdout",
     "output_type": "stream",
     "text": [
      "3\n",
      "Space Oddity\n",
      "False\n",
      "True\n",
      "[2, 4]\n",
      "[2, 4, 6, 8, 10]\n",
      "15\n"
     ]
    }
   ],
   "source": [
    "add = curry(lambda a, b: a + b)\n",
    "prop = curry(lambda name, obj: obj[name])\n",
    "equals = curry(lambda a, b: a == b)\n",
    "prop_eq = curry(lambda name, expected, obj: equals(expected, prop(name, obj)))\n",
    "filter = curry(my_filter)\n",
    "map = curry(my_map)\n",
    "reduce = curry(my_reduce)\n",
    "\n",
    "print(add(1)(2))\n",
    "print(prop('name')(songs[0]))\n",
    "print(equals(1)(2))\n",
    "print(prop_eq('name')('Space Oddity')(songs[0]))\n",
    "print(filter(lambda item: item % 2 == 0, [1, 2, 3, 4, 5]))\n",
    "print(map(lambda item: item * 2, [1, 2, 3, 4, 5]))\n",
    "print(reduce(lambda acc, item: acc + item, 0, [1, 2, 3, 4, 5]))"
   ]
  },
  {
   "attachments": {},
   "cell_type": "markdown",
   "metadata": {},
   "source": [
    "Imagine we have a data structure called `MessageQueue`:"
   ]
  },
  {
   "cell_type": "code",
   "execution_count": 126,
   "metadata": {},
   "outputs": [],
   "source": [
    "class MessageQueue:\n",
    "  def __init__(self):\n",
    "    self.subscribers = []\n",
    "  \n",
    "  def publish(self, task):\n",
    "    for subscriber in self.subscribers:\n",
    "      reduce(lambda task, handler: handler(task), task, subscriber['handlers'])\n",
    "  \n",
    "  def subscribe(self):\n",
    "    new_subscriber = {\n",
    "      'handlers': []\n",
    "    }\n",
    "    self.subscribers.append(new_subscriber)\n",
    "\n",
    "    class Subscriber:\n",
    "      def then(self, callback):\n",
    "        new_subscriber['handlers'].append(callback)\n",
    "        return self\n",
    "\n",
    "    return Subscriber()\n",
    "\n",
    "message_queue = MessageQueue()"
   ]
  },
  {
   "attachments": {},
   "cell_type": "markdown",
   "metadata": {},
   "source": [
    "You can subscribe to messages pushed on the queue by calling `subscribe` and attaching different handlers with `then`:"
   ]
  },
  {
   "cell_type": "code",
   "execution_count": 127,
   "metadata": {},
   "outputs": [
    {
     "data": {
      "text/plain": [
       "<__main__.MessageQueue.subscribe.<locals>.Subscriber at 0x194f311b690>"
      ]
     },
     "execution_count": 127,
     "metadata": {},
     "output_type": "execute_result"
    }
   ],
   "source": [
    "message_queue \\\n",
    "  .subscribe() \\\n",
    "  .then((lambda data: print(f'test subscribe: { data[\"result\"] }')))"
   ]
  },
  {
   "attachments": {},
   "cell_type": "markdown",
   "metadata": {},
   "source": [
    "You can put a new message on the queue by calling `publish`: "
   ]
  },
  {
   "cell_type": "code",
   "execution_count": 128,
   "metadata": {},
   "outputs": [
    {
     "name": "stdout",
     "output_type": "stream",
     "text": [
      "test subscribe: SUCCESS\n"
     ]
    }
   ],
   "source": [
    "message_with_task_list = {\n",
    "  'result': 'SUCCESS',\n",
    "  'interfaceVersion': '1.0.3',\n",
    "  'requested': '10/17/2013 15:31:20',\n",
    "  'lastUpdated': '10/16/2013 10:52:39',\n",
    "  'tasks': [\n",
    "    { 'id': 104, 'complete': False, 'priority': 'high', 'username': 'Scott', 'title': 'Do something', 'estimate': 5 },\n",
    "    { 'id': 105, 'complete': False, 'priority': 'medium', 'username': 'Lena', 'title': 'Do something else', 'estimate': 2 },\n",
    "    { 'id': 107, 'complete': True, 'priority': 'high', 'username': 'Mike', 'title': 'Fix the foo', 'estimate': 1 },\n",
    "    { 'id': 108, 'complete': False, 'priority': 'low', 'username': 'Mike', 'title': 'Adjust the bar', 'estimate': 3 },\n",
    "    { 'id': 110, 'complete': False, 'priority': 'medium', 'username': 'Scott', 'title': 'Rename everything', 'estimate': 8 },\n",
    "    { 'id': 110, 'complete': True, 'priority': 'medium', 'username': 'Scott', 'title': 'Deploy', 'estimate': 1 },\n",
    "    { 'id': 112, 'complete': True, 'priority': 'high', 'username': 'Lena', 'title': 'Approve', 'estimate': 13 },\n",
    "  ],\n",
    "}\n",
    "message_queue.publish(message_with_task_list)"
   ]
  },
  {
   "attachments": {},
   "cell_type": "markdown",
   "metadata": {},
   "source": [
    "We would like to have `get_incomplete_tasks_estimation`.\n",
    "It accepts `username` as parameter, and returns the total estimation of all incomplete tasks assigned to that person.\n",
    "\n",
    "Implement this function in three different ways:"
   ]
  },
  {
   "attachments": {},
   "cell_type": "markdown",
   "metadata": {},
   "source": [
    "a) imperative"
   ]
  },
  {
   "cell_type": "code",
   "execution_count": 129,
   "metadata": {},
   "outputs": [
    {
     "name": "stdout",
     "output_type": "stream",
     "text": [
      "test subscribe: SUCCESS\n",
      "imperative: 13\n"
     ]
    }
   ],
   "source": [
    "def get_incomplete_tasks_estimation_imperative(username):\n",
    "  def get_tasks(data):\n",
    "    return data['tasks']\n",
    "\n",
    "  def get_user_tasks(tasks):\n",
    "    filtered = []\n",
    "    for task in tasks:\n",
    "      if task['username'] == username:\n",
    "        filtered.append(task)\n",
    "    return filtered\n",
    "\n",
    "  def get_user_incomplete_tasks(user_tasks):\n",
    "    filtered = []\n",
    "    for task in user_tasks:\n",
    "      if task['complete'] == False:\n",
    "        filtered.append(task)\n",
    "    return filtered\n",
    "\n",
    "  def get_estimates(user_incomplete_tasks):\n",
    "    mapped = []\n",
    "    for task in user_incomplete_tasks:\n",
    "      mapped.append(task['estimate'])\n",
    "    return mapped\n",
    "\n",
    "  def get_result(estimates):\n",
    "    acc = 0\n",
    "    for estimate in estimates:\n",
    "      acc += estimate\n",
    "    return acc\n",
    "  \n",
    "  def print_result(result):\n",
    "    print_with_prefix('imperative: ', result)\n",
    "\n",
    "  return message_queue.subscribe() \\\n",
    "    .then(get_tasks) \\\n",
    "    .then(get_user_tasks) \\\n",
    "    .then(get_user_incomplete_tasks) \\\n",
    "    .then(get_estimates) \\\n",
    "    .then(get_result) \\\n",
    "    .then(print_result)\n",
    "\n",
    "get_incomplete_tasks_estimation_imperative('Scott')\n",
    "message_queue.publish(message_with_task_list)"
   ]
  },
  {
   "attachments": {},
   "cell_type": "markdown",
   "metadata": {},
   "source": [
    "b) functional (using higher order functions, but without currying)"
   ]
  },
  {
   "cell_type": "code",
   "execution_count": 130,
   "metadata": {},
   "outputs": [
    {
     "name": "stdout",
     "output_type": "stream",
     "text": [
      "test subscribe: SUCCESS\n",
      "imperative: 13\n",
      "functional (no curry): 13\n"
     ]
    }
   ],
   "source": [
    "def get_incomplete_tasks_estimation_functional(username):\n",
    "  return message_queue.subscribe() \\\n",
    "    .then(lambda data: data['tasks']) \\\n",
    "    .then(lambda tasks: my_filter(lambda task: task['username'] == username, tasks)) \\\n",
    "    .then(lambda user_tasks: my_filter(lambda task: task['complete'] == False, user_tasks)) \\\n",
    "    .then(lambda user_incomplete_tasks: my_map(lambda task: task['estimate'], user_incomplete_tasks)) \\\n",
    "    .then(lambda estimates: my_reduce(lambda acc, estimate: acc + estimate, 0, estimates)) \\\n",
    "    .then(lambda result: print_with_prefix('functional (no curry): ', result))\n",
    "\n",
    "get_incomplete_tasks_estimation_functional('Scott')\n",
    "message_queue.publish(message_with_task_list)"
   ]
  },
  {
   "attachments": {},
   "cell_type": "markdown",
   "metadata": {},
   "source": [
    "c) functional (using both higher order functions and currying)"
   ]
  },
  {
   "cell_type": "code",
   "execution_count": 131,
   "metadata": {},
   "outputs": [
    {
     "name": "stdout",
     "output_type": "stream",
     "text": [
      "test subscribe: SUCCESS\n",
      "imperative: 13\n",
      "functional (no curry): 13\n",
      "functional (with curry): 13\n"
     ]
    }
   ],
   "source": [
    "def get_incomplete_tasks_estimation_functional(username):\n",
    "  return message_queue.subscribe() \\\n",
    "    .then(prop('tasks')) \\\n",
    "    .then(filter(prop_eq('username', username))) \\\n",
    "    .then(filter(prop_eq('complete', False))) \\\n",
    "    .then(map(prop('estimate'))) \\\n",
    "    .then(reduce(add, 0)) \\\n",
    "    .then(print_with_prefix('functional (with curry): '))\n",
    "\n",
    "get_incomplete_tasks_estimation_functional('Scott')\n",
    "message_queue.publish(message_with_task_list)"
   ]
  },
  {
   "attachments": {},
   "cell_type": "markdown",
   "metadata": {},
   "source": [
    "#### Composition"
   ]
  },
  {
   "attachments": {},
   "cell_type": "markdown",
   "metadata": {},
   "source": [
    "1. Implement `simple_compose`. Check if it's associative."
   ]
  },
  {
   "cell_type": "code",
   "execution_count": 132,
   "metadata": {},
   "outputs": [
    {
     "name": "stdout",
     "output_type": "stream",
     "text": [
      "FIRST!\n",
      "FIRST!\n"
     ]
    }
   ],
   "source": [
    "def simple_compose(f, g):\n",
    "  def composition(x):\n",
    "    return f(g(x))\n",
    "  return composition\n",
    "\n",
    "head = lambda x: x[0]\n",
    "to_upper_case = lambda x: x.upper()\n",
    "exclaim = lambda x: f'{x}!'\n",
    "\n",
    "fg_h = simple_compose(simple_compose(exclaim, to_upper_case), head)\n",
    "f_gh = simple_compose(exclaim, simple_compose(to_upper_case, head))\n",
    "\n",
    "print(fg_h(['first', 'last']))\n",
    "print(f_gh(['first', 'last']))"
   ]
  },
  {
   "attachments": {},
   "cell_type": "markdown",
   "metadata": {},
   "source": [
    "1. Implement `compose`."
   ]
  },
  {
   "cell_type": "code",
   "execution_count": 133,
   "metadata": {},
   "outputs": [
    {
     "name": "stdout",
     "output_type": "stream",
     "text": [
      "FIRST!\n"
     ]
    }
   ],
   "source": [
    "def compose(*functions):\n",
    "  if len(functions) == 1:\n",
    "    return functions[0]\n",
    "  elif len(functions) <= 2:\n",
    "    return simple_compose(*functions)\n",
    "  head, *tail = functions\n",
    "  return simple_compose(head, compose(*tail))\n",
    "\n",
    "fgh = compose(exclaim, to_upper_case, head)\n",
    "print(fgh(['first', 'last']))"
   ]
  },
  {
   "attachments": {},
   "cell_type": "markdown",
   "metadata": {},
   "source": [
    "2. Implement `simple_pipe` and `pipe`."
   ]
  },
  {
   "cell_type": "code",
   "execution_count": 134,
   "metadata": {},
   "outputs": [
    {
     "name": "stdout",
     "output_type": "stream",
     "text": [
      "FIRST!\n"
     ]
    }
   ],
   "source": [
    "def simple_pipe(f, g):\n",
    "  def piped(x):\n",
    "    return g(f(x))\n",
    "  return piped\n",
    "\n",
    "def pipe(*functions):\n",
    "  if len(functions) == 1:\n",
    "    return functions[0]\n",
    "  if len(functions) <= 2:\n",
    "    return simple_pipe(*functions)\n",
    "  head, *tail = functions\n",
    "  return simple_pipe(head, pipe(*tail))\n",
    "\n",
    "hgf = pipe(head, to_upper_case, exclaim)\n",
    "print(hgf(['first', 'last']))"
   ]
  },
  {
   "attachments": {},
   "cell_type": "markdown",
   "metadata": {},
   "source": [
    "3. Implement `scott_incomplete_tasks_estimation_compose` and `scott_incomplete_tasks_estimation_pipe`"
   ]
  },
  {
   "cell_type": "code",
   "execution_count": 135,
   "metadata": {},
   "outputs": [
    {
     "name": "stdout",
     "output_type": "stream",
     "text": [
      "incomplete tasks estimation (compose): 13\n",
      "incomplete tasks estimation (pipe): 13\n"
     ]
    }
   ],
   "source": [
    "scott_incomplete_tasks_estimation_compose = compose(\n",
    "    print_with_prefix('incomplete tasks estimation (compose): '),\n",
    "    reduce(add, 0),\n",
    "    map(prop('estimate')),\n",
    "    filter(prop_eq('complete', False)),\n",
    "    filter(prop_eq('username', 'Scott')),\n",
    "    prop('tasks')\n",
    ")\n",
    "\n",
    "scott_incomplete_tasks_estimation_compose(message_with_task_list)\n",
    "\n",
    "scott_incomplete_tasks_estimation_pipe = pipe(\n",
    "    prop('tasks'),\n",
    "    filter(prop_eq('username', 'Scott')),\n",
    "    filter(prop_eq('complete', False)),\n",
    "    map(prop('estimate')),\n",
    "    reduce(add, 0),\n",
    "    print_with_prefix('incomplete tasks estimation (pipe): ')\n",
    ")\n",
    "\n",
    "scott_incomplete_tasks_estimation_pipe(message_with_task_list)"
   ]
  },
  {
   "attachments": {},
   "cell_type": "markdown",
   "metadata": {},
   "source": [
    "#### Functors"
   ]
  },
  {
   "attachments": {},
   "cell_type": "markdown",
   "metadata": {},
   "source": [
    "1. Implement `Maybe` functor."
   ]
  },
  {
   "cell_type": "code",
   "execution_count": 136,
   "metadata": {},
   "outputs": [
    {
     "name": "stdout",
     "output_type": "stream",
     "text": [
      "Just(5)\n",
      "Nothing\n",
      "Just(10)\n",
      "Nothing\n",
      "6\n"
     ]
    }
   ],
   "source": [
    "class Nothing:\n",
    "  pass\n",
    "\n",
    "class Maybe:\n",
    "  __nothingValue = Nothing()\n",
    "  \n",
    "  def __init__(self, value):\n",
    "    self.__value = value\n",
    "\n",
    "  def __repr__(self):\n",
    "    return 'Nothing' if self.is_nothing() else f'Just({self.__value})'\n",
    "  \n",
    "  @staticmethod\n",
    "  def Just(value):\n",
    "    return Maybe(value)\n",
    "  \n",
    "  @staticmethod\n",
    "  def Nothing():\n",
    "    return Maybe(Maybe.__nothingValue)\n",
    "  \n",
    "  @staticmethod\n",
    "  def From(value):\n",
    "    return Maybe.Nothing() if value is None else Maybe.Just(value)\n",
    "\n",
    "  def is_nothing(self):\n",
    "    return self.__value == Maybe.__nothingValue\n",
    "  \n",
    "  def unsafe_unwrap_value(self):\n",
    "    return self.__value\n",
    "  \n",
    "  def get_or_else(self, value):\n",
    "    return value if self.is_nothing() else self.__value\n",
    "  \n",
    "  def map(self, fn):\n",
    "    return self if self.is_nothing() else Maybe.Just(fn(self.__value))\n",
    "  \n",
    "  def chain(self, fn):\n",
    "    return self if self.is_nothing() else fn(self.__value)\n",
    "\n",
    "  \n",
    "print(Maybe.Just(5))\n",
    "print(Maybe.Nothing())\n",
    "print(Maybe.From(10))\n",
    "print(Maybe.From(None))\n",
    "\n",
    "@curry\n",
    "def at(index, array):\n",
    "  return array[index] if index < len(array) else None\n",
    "\n",
    "head = at(0)\n",
    "inc = add(1)\n",
    "\n",
    "print(\n",
    "  Maybe.From(head([5, 2])) \\\n",
    "    .map(inc) \\\n",
    "    .get_or_else('cannot calculate the value')\n",
    ")\n"
   ]
  },
  {
   "attachments": {},
   "cell_type": "markdown",
   "metadata": {},
   "source": [
    "2. Make `Maybe` a monad."
   ]
  },
  {
   "cell_type": "code",
   "execution_count": 137,
   "metadata": {},
   "outputs": [
    {
     "name": "stdout",
     "output_type": "stream",
     "text": [
      "Just(2)\n"
     ]
    }
   ],
   "source": [
    "@curry\n",
    "def divide(a, b):\n",
    "  return Maybe.Nothing() if b == 0 else Maybe.Just(a // b)\n",
    "\n",
    "print(\n",
    "  Maybe.From(head([5, 2])) \\\n",
    "    .chain(divide(10))\n",
    ")"
   ]
  },
  {
   "attachments": {},
   "cell_type": "markdown",
   "metadata": {},
   "source": [
    "3. Implement `get_first_incomplete_task_assignee` (with handling missing values):"
   ]
  },
  {
   "cell_type": "code",
   "execution_count": 138,
   "metadata": {},
   "outputs": [],
   "source": [
    "example_task = {\n",
    "  'result': 'SUCCESS',\n",
    "  'interfaceVersion': '1.0.3',\n",
    "  'requested': '10/17/2013 15:31:20',\n",
    "  'lastUpdated': '10/16/2013 10:52:39',\n",
    "  'tasks': [\n",
    "    { 'id': 104, 'complete': False, 'priority': 'high', 'username': 'Scott', 'title': 'Do something', 'estimate': 5 },\n",
    "    { 'id': 105, 'complete': False, 'priority': 'medium', 'username': 'Lena', 'title': 'Do something else', 'estimate': 2 },\n",
    "    { 'id': 107, 'complete': True, 'priority': 'high', 'username': 'Mike', 'title': 'Fix the foo', 'estimate': 1 },\n",
    "    { 'id': 108, 'complete': False, 'priority': 'low', 'username': 'Mike', 'title': 'Adjust the bar', 'estimate': 3 },\n",
    "    { 'id': 110, 'complete': False, 'priority': 'medium', 'username': 'Scott', 'title': 'Rename everything', 'estimate': 8 },\n",
    "    { 'id': 110, 'complete': True, 'priority': 'medium', 'username': 'Scott', 'title': 'Deploy', 'estimate': 1 },\n",
    "    { 'id': 112, 'complete': True, 'priority': 'high', 'username': 'Lena', 'title': 'Approve', 'estimate': 13 },\n",
    "  ],\n",
    "}"
   ]
  },
  {
   "attachments": {},
   "cell_type": "markdown",
   "metadata": {},
   "source": [
    "a) imperative"
   ]
  },
  {
   "cell_type": "code",
   "execution_count": 139,
   "metadata": {},
   "outputs": [
    {
     "name": "stdout",
     "output_type": "stream",
     "text": [
      "Scott\n",
      "Scott\n"
     ]
    }
   ],
   "source": [
    "def get_first_incomplete_task_assignee_imperative(message):\n",
    "  if message.get('tasks') is not None:\n",
    "    incomplete_tasks = filter(lambda task: task['complete'] == False, message.get('tasks'))\n",
    "    first_incomplete_task = head(incomplete_tasks)\n",
    "    if first_incomplete_task is not None:\n",
    "      username = first_incomplete_task.get('username')\n",
    "      if username is not None:\n",
    "        return username\n",
    "  return None\n",
    "\n",
    "print(get_first_incomplete_task_assignee_imperative(example_task))\n",
    "\n",
    "def get_first_incomplete_task_assignee_imperative_2(message):\n",
    "  if message.get('tasks') is None:\n",
    "    return None\n",
    "  incomplete_tasks = filter(lambda task: task['complete'] == False, message.get('tasks'))\n",
    "  first_incomplete_task = head(incomplete_tasks)\n",
    "  if first_incomplete_task is None:\n",
    "    return None\n",
    "  username = first_incomplete_task.get('username')\n",
    "  if username is None:\n",
    "    return None\n",
    "  return username\n",
    "\n",
    "print(get_first_incomplete_task_assignee_imperative_2(example_task))"
   ]
  },
  {
   "attachments": {},
   "cell_type": "markdown",
   "metadata": {},
   "source": [
    "b) functional (using `Maybe` monad to handle absence of value)"
   ]
  },
  {
   "cell_type": "code",
   "execution_count": 140,
   "metadata": {},
   "outputs": [
    {
     "name": "stdout",
     "output_type": "stream",
     "text": [
      "Scott\n"
     ]
    }
   ],
   "source": [
    "safe_head = curry(lambda arr: Maybe.From(head(arr)))\n",
    "safe_prop = curry(lambda prop, obj: Maybe.From(obj.get(prop)))\n",
    "map = curry(lambda fn, functor: functor.map(fn))\n",
    "chain = curry(lambda fn, monad: monad.chain(fn))\n",
    "get_or_else = curry(lambda value, maybe: maybe.get_or_else(value))\n",
    "\n",
    "get_first_incomplete_task_assignee_functional = pipe(\n",
    "  safe_prop('tasks'),\n",
    "  map(filter(prop_eq('complete', False))),\n",
    "  chain(safe_head),\n",
    "  chain(safe_prop('username')),\n",
    "  get_or_else(None)\n",
    ")\n",
    "\n",
    "print(get_first_incomplete_task_assignee_functional(example_task))"
   ]
  }
 ],
 "metadata": {
  "kernelspec": {
   "display_name": "Python 3",
   "language": "python",
   "name": "python3"
  },
  "language_info": {
   "codemirror_mode": {
    "name": "ipython",
    "version": 3
   },
   "file_extension": ".py",
   "mimetype": "text/x-python",
   "name": "python",
   "nbconvert_exporter": "python",
   "pygments_lexer": "ipython3",
   "version": "3.11.0"
  },
  "orig_nbformat": 4,
  "vscode": {
   "interpreter": {
    "hash": "3b9618e4c15a19c2752797371b0a9738b813ae0f98e698bfbeeb1251bafe70b2"
   }
  }
 },
 "nbformat": 4,
 "nbformat_minor": 2
}
